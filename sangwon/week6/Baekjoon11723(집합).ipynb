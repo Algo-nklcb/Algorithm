{
 "cells": [
  {
   "cell_type": "code",
   "execution_count": 5,
   "metadata": {},
   "outputs": [
    {
     "name": "stdout",
     "output_type": "stream",
     "text": [
      "4\n",
      "add 1\n",
      "add 2\n",
      "check 5\n",
      "0\n",
      "check 2\n",
      "1\n"
     ]
    }
   ],
   "source": [
    "import sys\n",
    "input = sys.stdin.readline\n",
    "m = int(input())\n",
    "n = 20\n",
    "s = 0\n",
    "for _ in range(m):\n",
    "    op, *num = input().split()\n",
    "    if len(num) > 0:\n",
    "        x = int(num[0]) - 1\n",
    "    if op == 'add': # 추가하기\n",
    "        s = (s | (1 << x))\n",
    "    elif op == 'remove':\n",
    "        s = (s & ~(1 << x))\n",
    "    elif op == 'check':\n",
    "        res = (s & (1 << x))\n",
    "        if res > 0:\n",
    "            print('1')\n",
    "        else:\n",
    "            print('0')\n",
    "    elif op == 'toggle':\n",
    "        s = (s ^ (1 << x))\n",
    "    elif op == 'all':\n",
    "        s = (1 << n) - 1\n",
    "    else:\n",
    "        s = 0"
   ]
  }
 ],
 "metadata": {
  "kernelspec": {
   "display_name": "Python 3",
   "language": "python",
   "name": "python3"
  },
  "language_info": {
   "codemirror_mode": {
    "name": "ipython",
    "version": 3
   },
   "file_extension": ".py",
   "mimetype": "text/x-python",
   "name": "python",
   "nbconvert_exporter": "python",
   "pygments_lexer": "ipython3",
   "version": "3.8.2"
  }
 },
 "nbformat": 4,
 "nbformat_minor": 4
}
