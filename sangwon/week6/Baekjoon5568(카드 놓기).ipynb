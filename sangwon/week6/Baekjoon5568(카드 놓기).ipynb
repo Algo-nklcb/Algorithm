{
 "cells": [
  {
   "cell_type": "code",
   "execution_count": 13,
   "metadata": {},
   "outputs": [
    {
     "name": "stdout",
     "output_type": "stream",
     "text": [
      "4\n",
      "2\n",
      "1\n",
      "2\n",
      "12\n",
      "1\n",
      "7\n"
     ]
    }
   ],
   "source": [
    "from itertools import permutations\n",
    "\n",
    "n = int(input()) # 전체 개수\n",
    "k = int(input()) # 선택 개수\n",
    "\n",
    "arr = [int(input()) for _ in range(n)]\n",
    "\n",
    "res = []\n",
    "for i in permutations(arr, k):\n",
    "    s = ''\n",
    "    for j in range(k):\n",
    "        s += str(i[j])\n",
    "    res.append(s)\n",
    "res = set(res)\n",
    "print(len(res))"
   ]
  },
  {
   "cell_type": "code",
   "execution_count": 15,
   "metadata": {},
   "outputs": [
    {
     "name": "stdout",
     "output_type": "stream",
     "text": [
      "4\n",
      "2\n",
      "1\n",
      "2\n",
      "12\n",
      "1\n",
      "7\n"
     ]
    }
   ],
   "source": [
    "from itertools import permutations\n",
    "\n",
    "n = int(input()) # 전체 개수\n",
    "k = int(input()) # 선택 개수\n",
    "\n",
    "arr = [int(input()) for _ in range(n)]\n",
    "\n",
    "res = set()\n",
    "\n",
    "for i in permutations(arr, k):\n",
    "    s = ''\n",
    "    for j in range(k):\n",
    "        s += str(i[j])\n",
    "    res.add(s)\n",
    "print(len(res))"
   ]
  },
  {
   "cell_type": "code",
   "execution_count": 19,
   "metadata": {},
   "outputs": [
    {
     "name": "stdout",
     "output_type": "stream",
     "text": [
      "4\n",
      "2\n",
      "1\n",
      "2\n",
      "12\n",
      "1\n",
      "7\n"
     ]
    }
   ],
   "source": [
    "from itertools import permutations\n",
    "\n",
    "n = int(input()) # 전체 개수\n",
    "k = int(input()) # 선택 개수\n",
    "\n",
    "arr = [input() for _ in range(n)]\n",
    "res = set()\n",
    "\n",
    "for i in permutations(arr, k):\n",
    "    res.add(''.join(i))\n",
    "print(len(res))"
   ]
  }
 ],
 "metadata": {
  "kernelspec": {
   "display_name": "Python 3",
   "language": "python",
   "name": "python3"
  },
  "language_info": {
   "codemirror_mode": {
    "name": "ipython",
    "version": 3
   },
   "file_extension": ".py",
   "mimetype": "text/x-python",
   "name": "python",
   "nbconvert_exporter": "python",
   "pygments_lexer": "ipython3",
   "version": "3.8.2"
  }
 },
 "nbformat": 4,
 "nbformat_minor": 4
}
