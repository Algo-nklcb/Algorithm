{
 "cells": [
  {
   "cell_type": "code",
   "execution_count": 57,
   "metadata": {
    "scrolled": false
   },
   "outputs": [
    {
     "name": "stdout",
     "output_type": "stream",
     "text": [
      "2\n",
      "3\n",
      "911\n",
      "97625999\n",
      "91125426\n",
      "NO\n",
      "5\n",
      "113\n",
      "12340\n",
      "123440\n",
      "12345\n",
      "98346\n",
      "YES\n"
     ]
    }
   ],
   "source": [
    "class Node:\n",
    "    def __init__(self, key, data=None):\n",
    "        self.key = key\n",
    "        self.child = dict()\n",
    "        \n",
    "class Trie:\n",
    "    def __init__(self):\n",
    "        self.head = Node(None)\n",
    "    \n",
    "    def insert(self, word):\n",
    "        curr = self.head\n",
    "        \n",
    "        for c in word:\n",
    "            if '*' in curr.child: # 삽입하다가 '*'만나면 False\n",
    "                return False\n",
    "            if c not in curr.child:\n",
    "                curr.child[c] = Node(c)\n",
    "            curr = curr.child[c]\n",
    "\n",
    "        if len(curr.child) > 0: # '*'을 넣으려는데 이미 child가 존재\n",
    "            return False\n",
    "        curr.child['*'] = True\n",
    "        return True\n",
    "\n",
    "#     def search(self, word):\n",
    "#         curr = self.head\n",
    "        \n",
    "#         for c in word:\n",
    "#             if c not in curr.child:\n",
    "#                 return 0\n",
    "#             else:\n",
    "#                 curr = curr.child[c]\n",
    "#         if curr.child['*']:\n",
    "#             return 1\n",
    "        \n",
    "t = int(input())\n",
    "for _ in range(t):\n",
    "    n = int(input())\n",
    "    tries = Trie()\n",
    "    flag = True\n",
    "    for _ in range(n):\n",
    "        a = input()\n",
    "        res = tries.insert(a)\n",
    "        if res is False:\n",
    "            flag = False\n",
    "\n",
    "    if flag is True:\n",
    "        print('YES')\n",
    "    else:\n",
    "        print('NO')"
   ]
  }
 ],
 "metadata": {
  "kernelspec": {
   "display_name": "Python 3",
   "language": "python",
   "name": "python3"
  },
  "language_info": {
   "codemirror_mode": {
    "name": "ipython",
    "version": 3
   },
   "file_extension": ".py",
   "mimetype": "text/x-python",
   "name": "python",
   "nbconvert_exporter": "python",
   "pygments_lexer": "ipython3",
   "version": "3.8.2"
  }
 },
 "nbformat": 4,
 "nbformat_minor": 4
}
