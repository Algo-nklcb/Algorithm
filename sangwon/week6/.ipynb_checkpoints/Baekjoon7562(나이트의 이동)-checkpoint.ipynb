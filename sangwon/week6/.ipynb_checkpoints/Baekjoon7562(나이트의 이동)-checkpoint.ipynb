{
 "cells": [
  {
   "cell_type": "code",
   "execution_count": 2,
   "metadata": {},
   "outputs": [
    {
     "name": "stdout",
     "output_type": "stream",
     "text": [
      "3\n",
      "8\n",
      "0 0\n",
      "7 0\n",
      "5\n",
      "100\n",
      "0 0\n",
      "30 50\n",
      "28\n",
      "10\n",
      "1 1\n",
      "1 1\n",
      "0\n"
     ]
    }
   ],
   "source": [
    "from collections import deque\n",
    "t = int(input())\n",
    "\n",
    "directions = [(-1, -2), (-2, -1), (-2, 1), (-1, 2), (1, -2), (2, -1), (1, 2), (2, 1)]\n",
    "for _ in range(t):\n",
    "    n = int(input()) # 한 변의 길이\n",
    "    x1, y1 = map(int, input().split())\n",
    "    x2, y2 = map(int, input().split())\n",
    "    \n",
    "    dist = [[-1]*n for _ in range(n)]\n",
    "    q = deque([(x1, y1)])\n",
    "    dist[x1][y1] = 0\n",
    "    while q:\n",
    "        v = q.popleft()\n",
    "        if v[0] == x2 and v[1] == y2:\n",
    "            print(dist[v[0]][v[1]])\n",
    "            break\n",
    "        for dx, dy in directions:\n",
    "            nx, ny = v[0] + dx, v[1] + dy\n",
    "            if 0 <= nx < n and 0 <= ny < n and dist[nx][ny] == -1:\n",
    "                dist[nx][ny] = dist[v[0]][v[1]] + 1\n",
    "                q.append((nx, ny))"
   ]
  }
 ],
 "metadata": {
  "kernelspec": {
   "display_name": "Python 3",
   "language": "python",
   "name": "python3"
  },
  "language_info": {
   "codemirror_mode": {
    "name": "ipython",
    "version": 3
   },
   "file_extension": ".py",
   "mimetype": "text/x-python",
   "name": "python",
   "nbconvert_exporter": "python",
   "pygments_lexer": "ipython3",
   "version": "3.8.2"
  }
 },
 "nbformat": 4,
 "nbformat_minor": 4
}
