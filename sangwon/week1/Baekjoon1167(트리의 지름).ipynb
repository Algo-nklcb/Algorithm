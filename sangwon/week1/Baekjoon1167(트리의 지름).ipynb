{
 "cells": [
  {
   "cell_type": "code",
   "execution_count": 30,
   "metadata": {
    "scrolled": true
   },
   "outputs": [
    {
     "name": "stdout",
     "output_type": "stream",
     "text": [
      "5\n",
      "1 3 2 -1\n",
      "2 4 4 -1\n",
      "3 1 2 4 3 -1\n",
      "4 2 4 3 3 5 6 -1\n",
      "5 4 6 -1\n",
      "11\n"
     ]
    }
   ],
   "source": [
    "import heapq\n",
    "V = int(input())\n",
    "adj = [[] for _ in range(V + 1)]\n",
    "\n",
    "for i in range(1, V + 1):\n",
    "    adj_arr = list(map(int, input().split()))[:-1]\n",
    "    for j in range(1, len(adj_arr), 2):\n",
    "        adj[adj_arr[0]].append((adj_arr[j], adj_arr[j + 1]))\n",
    "\n",
    "def dijkstra(start, graph):\n",
    "    n = len(graph)\n",
    "    heap = []\n",
    "    distances = [float('inf')] * n\n",
    "    \n",
    "    heapq.heappush(heap, (0, start))\n",
    "    distances[start] = 0\n",
    "    \n",
    "    while heap:\n",
    "        dist, node = heapq.heappop(heap)\n",
    "        \n",
    "        if dist > distances[node]:\n",
    "            continue\n",
    "            \n",
    "        for adj_node, adj_dist in graph[node]:\n",
    "            new_dist = dist + adj_dist\n",
    "            if new_dist < distances[adj_node]:\n",
    "                distances[adj_node] = new_dist\n",
    "                heapq.heappush(heap, (new_dist, adj_node))\n",
    "    \n",
    "    return distances\n",
    "distances = dijkstra(1, adj)\n",
    "temp = distances.index(max(distances[1:]))\n",
    "print(max(dijkstra(temp, adj)[1:]))"
   ]
  },
  {
   "cell_type": "code",
   "execution_count": 32,
   "metadata": {},
   "outputs": [
    {
     "name": "stdout",
     "output_type": "stream",
     "text": [
      "5\n",
      "1 3 2 -1\n",
      "2 4 4 -1\n",
      "3 1 2 4 3 -1\n",
      "4 2 4 3 3 5 6 -1\n",
      "5 4 6 -1\n",
      "11\n"
     ]
    }
   ],
   "source": [
    "from collections import deque\n",
    "V = int(input())\n",
    "adj = [[] for _ in range(V + 1)]\n",
    "\n",
    "for i in range(1, V + 1):\n",
    "    adj_arr = list(map(int, input().split()))[:-1]\n",
    "    for j in range(1, len(adj_arr), 2):\n",
    "        adj[adj_arr[0]].append((adj_arr[j], adj_arr[j + 1]))\n",
    "\n",
    "def bfs(start):\n",
    "    visited = [-1] * (V + 1)\n",
    "    q = deque([start])\n",
    "    visited[start] = 0\n",
    "    _max = [0, 0] # [해당 노드까지 거리, 노드]\n",
    "    \n",
    "    while q:\n",
    "        v = q.popleft()\n",
    "        for node, dist in adj[v]:\n",
    "            if visited[node] == -1:\n",
    "                visited[node] = visited[v] + dist\n",
    "                q.append(node)\n",
    "                if _max[0] < visited[node]:\n",
    "                    _max = [visited[node], node]\n",
    "    return _max\n",
    "\n",
    "dis, node = bfs(1)\n",
    "dis, node = bfs(node)\n",
    "print(dis)"
   ]
  }
 ],
 "metadata": {
  "kernelspec": {
   "display_name": "Python 3",
   "language": "python",
   "name": "python3"
  },
  "language_info": {
   "codemirror_mode": {
    "name": "ipython",
    "version": 3
   },
   "file_extension": ".py",
   "mimetype": "text/x-python",
   "name": "python",
   "nbconvert_exporter": "python",
   "pygments_lexer": "ipython3",
   "version": "3.8.2"
  }
 },
 "nbformat": 4,
 "nbformat_minor": 4
}
