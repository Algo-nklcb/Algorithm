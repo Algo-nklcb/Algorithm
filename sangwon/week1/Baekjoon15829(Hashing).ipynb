{
 "cells": [
  {
   "cell_type": "code",
   "execution_count": 7,
   "metadata": {},
   "outputs": [
    {
     "name": "stdout",
     "output_type": "stream",
     "text": [
      "3\n",
      "zzz\n",
      "25818\n"
     ]
    }
   ],
   "source": [
    "L = int(input())\n",
    "s = input()\n",
    "DIV = 1234567891\n",
    "result = 0\n",
    "for i in range(len(s)):\n",
    "    result += ((ord(s[i]) - 96) * (31 ** i))\n",
    "print(result % DIV)"
   ]
  },
  {
   "cell_type": "code",
   "execution_count": null,
   "metadata": {},
   "outputs": [],
   "source": []
  }
 ],
 "metadata": {
  "kernelspec": {
   "display_name": "Python 3",
   "language": "python",
   "name": "python3"
  },
  "language_info": {
   "codemirror_mode": {
    "name": "ipython",
    "version": 3
   },
   "file_extension": ".py",
   "mimetype": "text/x-python",
   "name": "python",
   "nbconvert_exporter": "python",
   "pygments_lexer": "ipython3",
   "version": "3.8.2"
  }
 },
 "nbformat": 4,
 "nbformat_minor": 4
}
