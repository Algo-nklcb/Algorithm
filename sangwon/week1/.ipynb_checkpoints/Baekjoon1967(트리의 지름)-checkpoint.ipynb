{
 "cells": [
  {
   "cell_type": "code",
   "execution_count": 3,
   "metadata": {},
   "outputs": [
    {
     "name": "stdout",
     "output_type": "stream",
     "text": [
      "12\n",
      "1 2 3\n",
      "1 3 2\n",
      "2 4 5\n",
      "3 5 11\n",
      "3 6 9\n",
      "4 7 1\n",
      "4 8 7\n",
      "5 9 15\n",
      "5 10 4\n",
      "6 11 6\n",
      "6 12 10\n",
      "45\n"
     ]
    }
   ],
   "source": [
    "import heapq\n",
    "\n",
    "n = int(input())\n",
    "graph = [[] for _ in range(n + 1)] \n",
    "\n",
    "# graph 생성\n",
    "for _ in range(n - 1):\n",
    "    parent, child, weight = map(int, input().split())\n",
    "    graph[parent].append((child, weight))\n",
    "    graph[child].append((parent, weight))\n",
    "    \n",
    "def dijkstra(start, graph):\n",
    "    n = len(graph)\n",
    "    heap = []\n",
    "    distances = [float('inf')] * n\n",
    "    \n",
    "    heapq.heappush(heap, (0, start))\n",
    "    distances[start] = 0\n",
    "    \n",
    "    while heap:\n",
    "        dist, node = heapq.heappop(heap)\n",
    "        \n",
    "        if dist > distances[node]:\n",
    "            continue\n",
    "            \n",
    "        for adj_node, adj_dist in graph[node]:\n",
    "            new_dist = dist + adj_dist\n",
    "            if new_dist < distances[adj_node]:\n",
    "                distances[adj_node] = new_dist\n",
    "                heapq.heappush(heap, (new_dist, adj_node))\n",
    "                \n",
    "    return distances\n",
    "\n",
    "distances = dijkstra(1, graph)\n",
    "max_index = distances.index(max(distances[1:]))\n",
    "print(max(dijkstra(max_index, graph)[1:]))"
   ]
  }
 ],
 "metadata": {
  "kernelspec": {
   "display_name": "Python 3",
   "language": "python",
   "name": "python3"
  },
  "language_info": {
   "codemirror_mode": {
    "name": "ipython",
    "version": 3
   },
   "file_extension": ".py",
   "mimetype": "text/x-python",
   "name": "python",
   "nbconvert_exporter": "python",
   "pygments_lexer": "ipython3",
   "version": "3.8.2"
  }
 },
 "nbformat": 4,
 "nbformat_minor": 4
}
