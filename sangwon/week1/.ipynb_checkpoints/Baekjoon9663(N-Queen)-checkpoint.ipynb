{
 "cells": [
  {
   "cell_type": "code",
   "execution_count": 3,
   "metadata": {},
   "outputs": [
    {
     "name": "stdout",
     "output_type": "stream",
     "text": [
      "8\n",
      "92\n"
     ]
    }
   ],
   "source": [
    "# 시간 초과\n",
    "def check(row, col):\n",
    "    for i in range(n):\n",
    "        if i == row:\n",
    "            continue\n",
    "        if a[i][col]:\n",
    "            return False\n",
    "        \n",
    "    x = row - 1\n",
    "    y = col - 1\n",
    "    while x >= 0 and y >= 0:\n",
    "        if a[x][y]:\n",
    "            return False\n",
    "        \n",
    "        x -= 1\n",
    "        y -= 1\n",
    "        \n",
    "    x = row - 1\n",
    "    y = col + 1\n",
    "    while x >= 0 and y < n:\n",
    "        if a[x][y]:\n",
    "            return False\n",
    "        x -= 1\n",
    "        y += 1\n",
    "        \n",
    "    return True\n",
    "    \n",
    "\n",
    "def calc(row):\n",
    "    if row == n:\n",
    "        global ans\n",
    "        ans += 1\n",
    "        return\n",
    "    for col in range(n):\n",
    "        a[row][col] = True # 퀸 놓음\n",
    "        if check(row, col): # 놓을 수 있으면\n",
    "            calc(row + 1) # 다음 행 재귀 호출\n",
    "        a[row][col] = False # 퀸 제거\n",
    "            \n",
    "\n",
    "n = int(input())\n",
    "ans = 0\n",
    "a = [[False] * n for _ in range(n)]\n",
    "calc(0) # row가 들어감\n",
    "print(ans)"
   ]
  },
  {
   "cell_type": "code",
   "execution_count": 10,
   "metadata": {},
   "outputs": [
    {
     "name": "stdout",
     "output_type": "stream",
     "text": [
      "8\n",
      "92\n"
     ]
    }
   ],
   "source": [
    "# 정답\n",
    "def check(row, col):\n",
    "    # |\n",
    "    if check_col[col]:\n",
    "        return False\n",
    "    # /\n",
    "    if check_dig[row + col]:\n",
    "        return False\n",
    "    # \\\n",
    "    if check_dig2[col - row + n - 1]: # check_dig2[row-col+n-1] 도 됨.\n",
    "        return False\n",
    "    return True\n",
    "    \n",
    "def calc(row):\n",
    "    if row == n:\n",
    "        return 1\n",
    "    \n",
    "    ans = 0\n",
    "    for col in range(n):\n",
    "        if check(row, col):\n",
    "            check_col[col] = True\n",
    "            check_dig[row+col] = True\n",
    "            check_dig2[col-row+n-1] = True\n",
    "            a[row][col] = True\n",
    "            ans += calc(row + 1)\n",
    "            check_col[col] = False\n",
    "            check_dig[row+col] = False\n",
    "            check_dig2[col-row+n-1] = False\n",
    "            a[row][col] = False\n",
    "    return ans \n",
    "\n",
    "n = int(input())\n",
    "a = [[False] * n for _ in range(n)]\n",
    "check_col = [False] * n\n",
    "check_dig = [False] * (2*n-1)\n",
    "check_dig2 = [False] * (2*n-1)\n",
    "print(calc(0))"
   ]
  }
 ],
 "metadata": {
  "kernelspec": {
   "display_name": "Python 3",
   "language": "python",
   "name": "python3"
  },
  "language_info": {
   "codemirror_mode": {
    "name": "ipython",
    "version": 3
   },
   "file_extension": ".py",
   "mimetype": "text/x-python",
   "name": "python",
   "nbconvert_exporter": "python",
   "pygments_lexer": "ipython3",
   "version": "3.8.2"
  }
 },
 "nbformat": 4,
 "nbformat_minor": 4
}
