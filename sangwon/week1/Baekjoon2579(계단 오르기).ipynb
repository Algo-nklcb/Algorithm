{
 "cells": [
  {
   "cell_type": "code",
   "execution_count": 16,
   "metadata": {},
   "outputs": [
    {
     "name": "stdout",
     "output_type": "stream",
     "text": [
      "6\n",
      "10\n",
      "20\n",
      "10\n",
      "20\n",
      "10\n",
      "20\n",
      "70\n"
     ]
    }
   ],
   "source": [
    "n = int(input())\n",
    "dp = [0] * 301\n",
    "arr = [0] * 301\n",
    "for i in range(1, n + 1):\n",
    "    arr[i] = int(input())\n",
    "\n",
    "dp[1] = arr[1]\n",
    "dp[2] = arr[1] + arr[2]\n",
    "dp[3] = max(arr[1]+arr[3], arr[2]+arr[3])\n",
    "\n",
    "for i in range(4, n+1):\n",
    "    dp[i] = max(dp[i-3]+arr[i-1]+arr[i], dp[i-2]+arr[i])\n",
    "\n",
    "print(dp[n])"
   ]
  },
  {
   "cell_type": "code",
   "execution_count": null,
   "metadata": {},
   "outputs": [],
   "source": []
  }
 ],
 "metadata": {
  "kernelspec": {
   "display_name": "Python 3",
   "language": "python",
   "name": "python3"
  },
  "language_info": {
   "codemirror_mode": {
    "name": "ipython",
    "version": 3
   },
   "file_extension": ".py",
   "mimetype": "text/x-python",
   "name": "python",
   "nbconvert_exporter": "python",
   "pygments_lexer": "ipython3",
   "version": "3.8.2"
  }
 },
 "nbformat": 4,
 "nbformat_minor": 4
}
