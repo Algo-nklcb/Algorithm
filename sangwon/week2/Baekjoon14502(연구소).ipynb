{
 "cells": [
  {
   "cell_type": "code",
   "execution_count": null,
   "metadata": {},
   "outputs": [],
   "source": [
    "from collections import deque\n",
    "from itertools import combinations\n",
    "import copy\n",
    "\n",
    "N, M = map(int, input().split())\n",
    "a = []\n",
    "for i in range(N):\n",
    "    a.append(list(map(int, input().split())))\n",
    "    \n",
    "\n",
    "def bfs(arr):\n",
    "    new_arr = copy.deepcopy(arr)\n",
    "    q = deque()\n",
    "    for i in range(N):\n",
    "        for j in range(M):\n",
    "            if new_arr[i][j] == 2:\n",
    "                q.append((i, j))\n",
    "\n",
    "    directions = [(-1, 0), (1, 0), (0, 1), (0, -1)]\n",
    "    while q:\n",
    "        v = q.popleft()\n",
    "        for dx, dy in directions:\n",
    "            nx, ny = v[0] + dx, v[1] + dy\n",
    "            if 0 <= nx < N and 0 <= ny < M:\n",
    "                if new_arr[nx][ny] == 0:\n",
    "                    new_arr[nx][ny] = 3 # 전염됨\n",
    "                    q.append((nx, ny))\n",
    "    return zero_cnt(new_arr)\n",
    "        \n",
    "def make_walls(arr):\n",
    "    max_cnt = 0\n",
    "    zero_arr = []\n",
    "    for i in range(N):\n",
    "        for j in range(M):\n",
    "            if arr[i][j] == 0:\n",
    "                zero_arr.append((i, j))\n",
    "\n",
    "    for i in combinations(zero_arr, 3): # 3개 뽑음\n",
    "        for j in i:\n",
    "            arr[j[0]][j[1]] = 1\n",
    "        max_cnt = max(max_cnt, bfs(arr))\n",
    "        for j in i:\n",
    "            arr[j[0]][j[1]] = 0\n",
    "    return max_cnt\n",
    "    \n",
    "\n",
    "def zero_cnt(arr):\n",
    "    cnt = 0\n",
    "    for i in range(N):\n",
    "        for j in range(M):\n",
    "            if arr[i][j] == 0:\n",
    "                cnt += 1\n",
    "    return cnt\n",
    "\n",
    "print(make_walls(a))"
   ]
  }
 ],
 "metadata": {
  "kernelspec": {
   "display_name": "Python 3",
   "language": "python",
   "name": "python3"
  },
  "language_info": {
   "codemirror_mode": {
    "name": "ipython",
    "version": 3
   },
   "file_extension": ".py",
   "mimetype": "text/x-python",
   "name": "python",
   "nbconvert_exporter": "python",
   "pygments_lexer": "ipython3",
   "version": "3.8.2"
  }
 },
 "nbformat": 4,
 "nbformat_minor": 4
}
