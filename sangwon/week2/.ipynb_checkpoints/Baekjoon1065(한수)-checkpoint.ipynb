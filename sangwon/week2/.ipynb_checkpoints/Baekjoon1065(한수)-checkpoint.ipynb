{
 "cells": [
  {
   "cell_type": "code",
   "execution_count": 12,
   "metadata": {},
   "outputs": [
    {
     "name": "stdout",
     "output_type": "stream",
     "text": [
      "1000\n",
      "144\n"
     ]
    }
   ],
   "source": [
    "N = int(input())\n",
    "hansu = 99\n",
    "\n",
    "if N <= 99:\n",
    "    print(N)\n",
    "else:\n",
    "    for i in range(111, N + 1):\n",
    "        arr = list(map(int, str(i)))\n",
    "        if arr[2] - arr[1] == arr[1] - arr[0]:\n",
    "            hansu += 1\n",
    "    print(hansu)"
   ]
  },
  {
   "cell_type": "code",
   "execution_count": 14,
   "metadata": {},
   "outputs": [
    {
     "name": "stdout",
     "output_type": "stream",
     "text": [
      "10000\n",
      "174\n"
     ]
    }
   ],
   "source": [
    "N = int(input())\n",
    "\n",
    "def is_hansu(n):\n",
    "    if n < 10:\n",
    "        return True\n",
    "    s = str(n)\n",
    "    l = len(s)\n",
    "    d = int(s[1]) - int(s[0])\n",
    "    for i in range(2, l):\n",
    "        if int(s[i]) - int(s[i-1]) != d:\n",
    "            return False\n",
    "    return True\n",
    "\n",
    "cnt = 99\n",
    "if N < 100:\n",
    "    print(N)\n",
    "else:\n",
    "    for i in range(111, N + 1):\n",
    "        if is_hansu(i):\n",
    "            cnt += 1\n",
    "    print(cnt)"
   ]
  },
  {
   "cell_type": "code",
   "execution_count": null,
   "metadata": {},
   "outputs": [],
   "source": []
  }
 ],
 "metadata": {
  "kernelspec": {
   "display_name": "Python 3",
   "language": "python",
   "name": "python3"
  },
  "language_info": {
   "codemirror_mode": {
    "name": "ipython",
    "version": 3
   },
   "file_extension": ".py",
   "mimetype": "text/x-python",
   "name": "python",
   "nbconvert_exporter": "python",
   "pygments_lexer": "ipython3",
   "version": "3.8.2"
  }
 },
 "nbformat": 4,
 "nbformat_minor": 4
}
