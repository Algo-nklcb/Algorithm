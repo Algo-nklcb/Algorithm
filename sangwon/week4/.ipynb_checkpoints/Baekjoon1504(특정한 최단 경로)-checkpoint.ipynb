{
 "cells": [
  {
   "cell_type": "code",
   "execution_count": 16,
   "metadata": {},
   "outputs": [
    {
     "name": "stdout",
     "output_type": "stream",
     "text": [
      "4 6\n",
      "1 2 3\n",
      "2 3 3\n",
      "3 4 1\n",
      "1 3 5\n",
      "2 4 5\n",
      "1 4 4\n",
      "2 3\n",
      "7\n"
     ]
    }
   ],
   "source": [
    "# INF를 수로 설정할거면 대소관계 확실히 하고 아니면 float('inf')로 계산\n",
    "import heapq\n",
    "# INF = int(1e9)\n",
    "N, E = map(int, input().split())\n",
    "graph = [[] for _ in range(N + 1)]\n",
    "for _ in range(E):\n",
    "    a, b, c = map(int, input().split())\n",
    "    graph[a].append((b, c))\n",
    "    graph[b].append((a, c))\n",
    "\n",
    "v1, v2 = map(int, input().split())\n",
    "\n",
    "def dijkstra(distance, start):\n",
    "    q = []\n",
    "    heapq.heappush(q, (0, start))\n",
    "    distance[start] = 0\n",
    "    \n",
    "    while q:\n",
    "        dist, now = heapq.heappop(q)\n",
    "        if distance[now] < dist:\n",
    "            continue\n",
    "            \n",
    "        for i in graph[now]: # 인접 노드(번호, 거리)\n",
    "            cost = dist + i[1]\n",
    "            if cost < distance[i[0]]:\n",
    "                distance[i[0]] = cost\n",
    "                heapq.heappush(q, (cost, i[0]))\n",
    "                \n",
    "    return distance\n",
    "\n",
    "distance = [float('inf')] * (N + 1)\n",
    "dijkstra(distance, 1)\n",
    "d_v1 = distance[v1]\n",
    "d_v2 = distance[v2]\n",
    "\n",
    "distance = [float('inf')] * (N + 1)\n",
    "dijkstra(distance, v1)\n",
    "d_v3 = distance[v2]\n",
    "d_v4 = distance[N]\n",
    "\n",
    "distance = [float('inf')] * (N + 1)\n",
    "dijkstra(distance, v2)\n",
    "d_v5 = distance[N]\n",
    "d_v6 = distance[v1]\n",
    "\n",
    "\n",
    "ans = min(d_v1 + d_v3 + d_v5, d_v2 + d_v4 + d_v6)\n",
    "if ans == float('inf'):\n",
    "    print(-1)\n",
    "else:\n",
    "    print(ans)"
   ]
  }
 ],
 "metadata": {
  "kernelspec": {
   "display_name": "Python 3",
   "language": "python",
   "name": "python3"
  },
  "language_info": {
   "codemirror_mode": {
    "name": "ipython",
    "version": 3
   },
   "file_extension": ".py",
   "mimetype": "text/x-python",
   "name": "python",
   "nbconvert_exporter": "python",
   "pygments_lexer": "ipython3",
   "version": "3.8.2"
  }
 },
 "nbformat": 4,
 "nbformat_minor": 4
}
