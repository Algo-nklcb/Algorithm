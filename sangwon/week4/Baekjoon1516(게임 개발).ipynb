{
 "cells": [
  {
   "cell_type": "code",
   "execution_count": 4,
   "metadata": {
    "scrolled": true
   },
   "outputs": [
    {
     "name": "stdout",
     "output_type": "stream",
     "text": [
      "5\n",
      "10 -1\n",
      "10 1 -1\n",
      "4 1 -2\n",
      "4 3 1 -1\n",
      "3 3 -1\n",
      "[0, 0, 1, 1, 2, 1]\n",
      "[[], [2, 3, 4], [], [4, 5], [], []]\n",
      "10\n",
      "20\n",
      "14\n",
      "18\n",
      "17\n"
     ]
    }
   ],
   "source": [
    "from collections import deque\n",
    "N = int(input())\n",
    "times = [0] * (N + 1)\n",
    "adj = [[] for _ in range(N + 1)]\n",
    "ind = [0] * (N + 1)\n",
    "for i in range(1, N + 1):\n",
    "    arr = list(map(int, input().split()))\n",
    "    times[i] = arr[0]\n",
    "    arr = arr[1:-1] \n",
    "    for j in arr:\n",
    "        adj[j].append(i)\n",
    "        ind[i] += 1 # adj\n",
    "print(ind)\n",
    "print(adj)\n",
    "q = deque()\n",
    "\n",
    "# 초기값 세팅\n",
    "dist = [0] * (N + 1)\n",
    "for i in range(1, N + 1):\n",
    "    if ind[i] == 0: # \n",
    "        q.append(i)\n",
    "    dist[i] = times[i]\n",
    "\n",
    "while q:\n",
    "    v = q.popleft()\n",
    "    for i in adj[v]:\n",
    "        dist[i] = max(dist[i], dist[v] + times[i]) # 최소시간(가능한 max 값)\n",
    "        ind[i] -= 1\n",
    "        if ind[i] == 0:\n",
    "            q.append(i)\n",
    "\n",
    "for i in range(1, N + 1):\n",
    "    print(dist[i])"
   ]
  },
  {
   "cell_type": "code",
   "execution_count": null,
   "metadata": {},
   "outputs": [],
   "source": []
  }
 ],
 "metadata": {
  "kernelspec": {
   "display_name": "Python 3",
   "language": "python",
   "name": "python3"
  },
  "language_info": {
   "codemirror_mode": {
    "name": "ipython",
    "version": 3
   },
   "file_extension": ".py",
   "mimetype": "text/x-python",
   "name": "python",
   "nbconvert_exporter": "python",
   "pygments_lexer": "ipython3",
   "version": "3.8.2"
  }
 },
 "nbformat": 4,
 "nbformat_minor": 4
}
