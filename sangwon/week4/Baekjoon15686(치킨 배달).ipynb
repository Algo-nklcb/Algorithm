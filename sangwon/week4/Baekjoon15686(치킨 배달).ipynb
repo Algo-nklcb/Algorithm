{
 "cells": [
  {
   "cell_type": "code",
   "execution_count": 11,
   "metadata": {},
   "outputs": [
    {
     "name": "stdout",
     "output_type": "stream",
     "text": [
      "5 2\n",
      "0 2 0 1 0\n",
      "1 0 1 0 0\n",
      "0 0 0 0 0\n",
      "2 0 0 1 1\n",
      "2 2 0 1 2\n",
      "10\n"
     ]
    }
   ],
   "source": [
    "from itertools import combinations\n",
    "\n",
    "N, M = map(int, input().split())\n",
    "arr = [list(map(int, input().split())) for _ in range(N)]\n",
    "\n",
    "def calc(x, y, ch_x, ch_y):\n",
    "    return abs(x - ch_x) + abs(y - ch_y)\n",
    "\n",
    "chicken, home = [], []\n",
    "for i in range(N):\n",
    "    for j in range(N):\n",
    "        if arr[i][j] == 2:\n",
    "            chicken.append((i, j))\n",
    "        elif arr[i][j] == 1:\n",
    "            home.append((i, j))\n",
    "\n",
    "res = 10000\n",
    "for i in combinations(chicken, M):\n",
    "    s = 0\n",
    "    for j in home:\n",
    "        ans = 10000\n",
    "        for k in i:\n",
    "            one_dist = calc(k[0],k[1],j[0],j[1])\n",
    "            if one_dist < ans:\n",
    "                 ans = one_dist\n",
    "        s += ans\n",
    "    if s < res:\n",
    "        res = s\n",
    "print(res)"
   ]
  }
 ],
 "metadata": {
  "kernelspec": {
   "display_name": "Python 3",
   "language": "python",
   "name": "python3"
  },
  "language_info": {
   "codemirror_mode": {
    "name": "ipython",
    "version": 3
   },
   "file_extension": ".py",
   "mimetype": "text/x-python",
   "name": "python",
   "nbconvert_exporter": "python",
   "pygments_lexer": "ipython3",
   "version": "3.8.2"
  }
 },
 "nbformat": 4,
 "nbformat_minor": 4
}
