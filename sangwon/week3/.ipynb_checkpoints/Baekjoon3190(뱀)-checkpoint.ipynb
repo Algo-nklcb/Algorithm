{
 "cells": [
  {
   "cell_type": "code",
   "execution_count": 24,
   "metadata": {
    "scrolled": true
   },
   "outputs": [
    {
     "name": "stdout",
     "output_type": "stream",
     "text": [
      "6\n",
      "3\n",
      "3 4\n",
      "2 5\n",
      "5 3\n",
      "3\n",
      "3 D\n",
      "15 L\n",
      "17 D\n",
      "9\n"
     ]
    }
   ],
   "source": [
    "import sys\n",
    "from collections import deque\n",
    "sys.setrecursionlimit(100000)\n",
    "\n",
    "N = int(input())\n",
    "K = int(input())\n",
    "arr = [[0] * N for _ in range(N)]\n",
    "for _ in range(K):\n",
    "    a, b = map(int, input().split())\n",
    "    arr[a - 1][b - 1] = 2 # 사과: 2\n",
    "\n",
    "L = int(input()) # 변환횟수\n",
    "dic = dict()\n",
    "for _ in range(L):\n",
    "    a, b = input().split()\n",
    "    dic[int(a)] = b # a초 후 왼쪽 L, 오른쪽 D\n",
    "q = deque()\n",
    "\n",
    "# 상, 우, 하, 좌 -> 0, 1, 2, 3\n",
    "direction_arr = [(-1, 0), (0, 1), (1, 0), (0, -1)]\n",
    "def go(x, y, length, direction, cnt):\n",
    "    global ans\n",
    "    if cnt in dic:\n",
    "        if dic[cnt] == 'L': # 왼쪽\n",
    "            direction = (direction + 3) % 4\n",
    "        elif dic[cnt] == 'D': # 오른쪽\n",
    "            direction = (direction + 1) % 4\n",
    "    ans = cnt\n",
    "    nx = x + direction_arr[direction][0]\n",
    "    ny = y + direction_arr[direction][1]\n",
    "    if 0 <= nx < N and 0 <= ny < N:\n",
    "        if arr[nx][ny] == 1: # 자기 몸을 만나면\n",
    "            return\n",
    "        elif arr[nx][ny] == 2: # 사과가 있다면\n",
    "            arr[nx][ny] = 1\n",
    "            q.append((nx, ny))\n",
    "            go(nx, ny, length + 1, direction, cnt + 1)\n",
    "        elif arr[nx][ny] == 0:\n",
    "            arr[nx][ny] = 1\n",
    "            q.append((nx, ny))\n",
    "            a, b = q.popleft()\n",
    "            arr[a][b] = 0\n",
    "            go(nx, ny, length, direction, cnt + 1)\n",
    "            \n",
    "    \n",
    "arr[0][0] = 1 # 뱀이 차지한 좌표\n",
    "q = deque([(0, 0)])\n",
    "ans = 0\n",
    "go(0, 0, 1, 1, 0)\n",
    "print(ans + 1)"
   ]
  }
 ],
 "metadata": {
  "kernelspec": {
   "display_name": "Python 3",
   "language": "python",
   "name": "python3"
  },
  "language_info": {
   "codemirror_mode": {
    "name": "ipython",
    "version": 3
   },
   "file_extension": ".py",
   "mimetype": "text/x-python",
   "name": "python",
   "nbconvert_exporter": "python",
   "pygments_lexer": "ipython3",
   "version": "3.8.2"
  }
 },
 "nbformat": 4,
 "nbformat_minor": 4
}
