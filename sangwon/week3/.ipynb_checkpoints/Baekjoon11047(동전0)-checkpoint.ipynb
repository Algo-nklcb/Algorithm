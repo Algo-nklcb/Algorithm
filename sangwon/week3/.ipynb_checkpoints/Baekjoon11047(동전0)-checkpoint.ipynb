{
 "cells": [
  {
   "cell_type": "code",
   "execution_count": 7,
   "metadata": {},
   "outputs": [
    {
     "name": "stdout",
     "output_type": "stream",
     "text": [
      "10 4200\n",
      "1\n",
      "5\n",
      "10\n",
      "50\n",
      "100\n",
      "500\n",
      "1000\n",
      "5000\n",
      "10000\n",
      "50000\n",
      "6\n"
     ]
    }
   ],
   "source": [
    "N, K = map(int, input().split())\n",
    "arr = []\n",
    "cnt = 0\n",
    "\n",
    "for _ in range(N):\n",
    "    arr.append(int(input()))\n",
    "    \n",
    "arr.reverse()\n",
    "\n",
    "for i in range(N):\n",
    "    if K // arr[i] > 0:\n",
    "        cnt += K // arr[i]\n",
    "        K %= arr[i]\n",
    "        \n",
    "print(cnt)"
   ]
  },
  {
   "cell_type": "code",
   "execution_count": 8,
   "metadata": {},
   "outputs": [
    {
     "name": "stdout",
     "output_type": "stream",
     "text": [
      "10 4790\n",
      "1\n",
      "5\n",
      "10\n",
      "50\n",
      "100\n",
      "500\n",
      "1000\n",
      "5000\n",
      "10000\n",
      "50000\n",
      "12\n"
     ]
    }
   ],
   "source": [
    "N, K = map(int, input().split())\n",
    "coin = []\n",
    "for _ in range(N):\n",
    "    coin.append(int(input()))\n",
    "    \n",
    "cnt = 0\n",
    "coin.reverse()\n",
    "i = 0\n",
    "while K > 0:\n",
    "    temp = K // coin[i]\n",
    "    cnt += temp\n",
    "    K %= coin[i]\n",
    "    i += 1\n",
    "print(cnt)"
   ]
  }
 ],
 "metadata": {
  "kernelspec": {
   "display_name": "Python 3",
   "language": "python",
   "name": "python3"
  },
  "language_info": {
   "codemirror_mode": {
    "name": "ipython",
    "version": 3
   },
   "file_extension": ".py",
   "mimetype": "text/x-python",
   "name": "python",
   "nbconvert_exporter": "python",
   "pygments_lexer": "ipython3",
   "version": "3.8.2"
  }
 },
 "nbformat": 4,
 "nbformat_minor": 4
}
