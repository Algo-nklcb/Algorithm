{
 "cells": [
  {
   "cell_type": "code",
   "execution_count": 7,
   "metadata": {},
   "outputs": [
    {
     "name": "stdout",
     "output_type": "stream",
     "text": [
      "5\n",
      "YCPZY\n",
      "CYZZP\n",
      "CCPPP\n",
      "YCYZC\n",
      "CPPZZ\n",
      "4\n"
     ]
    }
   ],
   "source": [
    "N = int(input())\n",
    "\n",
    "arr = []\n",
    "for _ in range(N):\n",
    "    arr.append(list(map(str, input())))\n",
    "    \n",
    "def calc(start_row, end_row, start_column, end_column):\n",
    "    ans = 0\n",
    "    for i in range(start_row, end_row + 1):\n",
    "        cnt = 1\n",
    "        for j in range(N - 1):\n",
    "            if arr[i][j] == arr[i][j + 1]:\n",
    "                cnt += 1\n",
    "            else:\n",
    "                cnt = 1\n",
    "            ans = max(ans, cnt)\n",
    "    \n",
    "    for i in range(start_column, end_column + 1):\n",
    "        cnt = 1\n",
    "        for j in range(N - 1):\n",
    "            if arr[j][i] == arr[j + 1][i]:\n",
    "                cnt += 1\n",
    "            else:\n",
    "                cnt = 1\n",
    "            ans = max(ans, cnt)\n",
    "\n",
    "    return ans\n",
    "    \n",
    "ans = 0\n",
    "for i in range(N):\n",
    "    for j in range(N):\n",
    "        if i + 1 < N:\n",
    "            arr[i][j], arr[i+1][j] = arr[i+1][j], arr[i][j]\n",
    "            cnt = calc(i, i+1, j, j)\n",
    "            ans = max(ans, cnt)\n",
    "            arr[i][j], arr[i+1][j] = arr[i+1][j], arr[i][j]\n",
    "        if j + 1 < N:\n",
    "            arr[i][j], arr[i][j+1] = arr[i][j+1], arr[i][j]\n",
    "            cnt = calc(i, i, j, j+1)\n",
    "            ans = max(ans, cnt)\n",
    "            arr[i][j], arr[i][j+1] = arr[i][j+1], arr[i][j]\n",
    "\n",
    "print(ans)"
   ]
  }
 ],
 "metadata": {
  "kernelspec": {
   "display_name": "Python 3",
   "language": "python",
   "name": "python3"
  },
  "language_info": {
   "codemirror_mode": {
    "name": "ipython",
    "version": 3
   },
   "file_extension": ".py",
   "mimetype": "text/x-python",
   "name": "python",
   "nbconvert_exporter": "python",
   "pygments_lexer": "ipython3",
   "version": "3.8.2"
  }
 },
 "nbformat": 4,
 "nbformat_minor": 4
}
