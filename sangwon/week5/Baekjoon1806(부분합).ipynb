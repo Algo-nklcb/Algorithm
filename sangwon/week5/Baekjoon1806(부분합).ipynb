{
 "cells": [
  {
   "cell_type": "code",
   "execution_count": 23,
   "metadata": {},
   "outputs": [
    {
     "name": "stdout",
     "output_type": "stream",
     "text": [
      "10 10\n",
      "1 1 1 1 1 1 1 1 1 10\n",
      "1\n"
     ]
    }
   ],
   "source": [
    "N, S = map(int, input().split())\n",
    "arr = list(map(int, input().split()))\n",
    "res = 0\n",
    "MAX = N + 1\n",
    "length = MAX\n",
    "\n",
    "left, right = 0, 0\n",
    "while True:\n",
    "    if res >= S:\n",
    "        length = min(length, right - left)\n",
    "        res -= arr[left]\n",
    "        left += 1\n",
    "    elif right == N:\n",
    "        break\n",
    "    elif res < S:\n",
    "        res += arr[right]\n",
    "        right += 1\n",
    "        \n",
    "if length == MAX:\n",
    "    print(0)\n",
    "else:\n",
    "    print(length)"
   ]
  }
 ],
 "metadata": {
  "kernelspec": {
   "display_name": "Python 3",
   "language": "python",
   "name": "python3"
  },
  "language_info": {
   "codemirror_mode": {
    "name": "ipython",
    "version": 3
   },
   "file_extension": ".py",
   "mimetype": "text/x-python",
   "name": "python",
   "nbconvert_exporter": "python",
   "pygments_lexer": "ipython3",
   "version": "3.8.2"
  }
 },
 "nbformat": 4,
 "nbformat_minor": 4
}
