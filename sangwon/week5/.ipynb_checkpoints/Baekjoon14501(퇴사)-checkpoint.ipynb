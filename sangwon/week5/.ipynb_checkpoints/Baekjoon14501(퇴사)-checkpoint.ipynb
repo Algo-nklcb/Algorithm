{
 "cells": [
  {
   "cell_type": "code",
   "execution_count": 37,
   "metadata": {},
   "outputs": [
    {
     "name": "stdout",
     "output_type": "stream",
     "text": [
      "10\n",
      "5 50\n",
      "4 40\n",
      "3 30\n",
      "2 20\n",
      "1 10\n",
      "1 10\n",
      "2 20\n",
      "3 30\n",
      "4 40\n",
      "5 50\n",
      "90\n"
     ]
    }
   ],
   "source": [
    "N = int(input())\n",
    "T, P = [], []\n",
    "for _ in range(N):\n",
    "    a, b = map(int, input().split())\n",
    "    T.append(a)\n",
    "    P.append(b)\n",
    "\n",
    "ans = 0\n",
    "def go(day, s):\n",
    "    global ans\n",
    "    if day == N:\n",
    "        ans = max(ans, s)\n",
    "        return\n",
    "    if day > N:\n",
    "        return\n",
    "    \n",
    "    go(day + T[day], s + P[day])\n",
    "    go(day + 1, s)\n",
    "    \n",
    "go(0, 0)\n",
    "print(ans)"
   ]
  },
  {
   "cell_type": "code",
   "execution_count": 39,
   "metadata": {},
   "outputs": [
    {
     "name": "stdout",
     "output_type": "stream",
     "text": [
      "10\n",
      "5 50\n",
      "4 40\n",
      "3 30\n",
      "2 20\n",
      "1 10\n",
      "1 10\n",
      "2 20\n",
      "3 30\n",
      "4 40\n",
      "5 50\n",
      "90\n"
     ]
    }
   ],
   "source": [
    "N = int(input())\n",
    "T, P = [], []\n",
    "dp = []\n",
    "for _ in range(N):\n",
    "    a, b = map(int, input().split())\n",
    "    T.append(a)\n",
    "    P.append(b)\n",
    "    dp.append(b)\n",
    "dp.append(0)\n",
    "\n",
    "for i in range(N - 1, -1, -1):\n",
    "    if i + T[i] > N:\n",
    "        dp[i] = dp[i + 1]\n",
    "    else:\n",
    "        dp[i] = max(dp[i + 1], dp[i + T[i]] + P[i])\n",
    "        \n",
    "print(dp[0])\n",
    "        "
   ]
  }
 ],
 "metadata": {
  "kernelspec": {
   "display_name": "Python 3",
   "language": "python",
   "name": "python3"
  },
  "language_info": {
   "codemirror_mode": {
    "name": "ipython",
    "version": 3
   },
   "file_extension": ".py",
   "mimetype": "text/x-python",
   "name": "python",
   "nbconvert_exporter": "python",
   "pygments_lexer": "ipython3",
   "version": "3.8.2"
  }
 },
 "nbformat": 4,
 "nbformat_minor": 4
}
