{
 "cells": [
  {
   "cell_type": "code",
   "execution_count": 27,
   "metadata": {},
   "outputs": [
    {
     "name": "stdout",
     "output_type": "stream",
     "text": [
      "8\n",
      "11110000\n",
      "11110000\n",
      "00011100\n",
      "00011100\n",
      "11110000\n",
      "11110000\n",
      "11110011\n",
      "11110011\n",
      "((110(0101))(0010)1(0001))\n"
     ]
    }
   ],
   "source": [
    "n = int(input())\n",
    "arr = [list(map(int, input())) for _ in range(n)]\n",
    "result = []\n",
    "\n",
    "def go(x, y, n):\n",
    "    color = arr[x][y]\n",
    "    for i in range(x, x + n):\n",
    "        for j in range(y, y + n):\n",
    "            if color != arr[i][j]:\n",
    "                result.append('(')\n",
    "                go(x, y, n//2)\n",
    "                go(x, y+n//2, n//2)\n",
    "                go(x+n//2, y, n//2)\n",
    "                go(x+n//2, y+n//2, n//2)\n",
    "                result.append(')')\n",
    "                return\n",
    "            \n",
    "    if color == 0:\n",
    "        result.append('0')\n",
    "    else:\n",
    "        result.append('1')\n",
    "        \n",
    "go(0, 0, n)\n",
    "print(''.join(result))"
   ]
  }
 ],
 "metadata": {
  "kernelspec": {
   "display_name": "Python 3",
   "language": "python",
   "name": "python3"
  },
  "language_info": {
   "codemirror_mode": {
    "name": "ipython",
    "version": 3
   },
   "file_extension": ".py",
   "mimetype": "text/x-python",
   "name": "python",
   "nbconvert_exporter": "python",
   "pygments_lexer": "ipython3",
   "version": "3.8.2"
  }
 },
 "nbformat": 4,
 "nbformat_minor": 4
}
