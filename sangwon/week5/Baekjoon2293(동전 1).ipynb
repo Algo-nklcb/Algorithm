{
 "cells": [
  {
   "cell_type": "code",
   "execution_count": 2,
   "metadata": {},
   "outputs": [
    {
     "name": "stdout",
     "output_type": "stream",
     "text": [
      "3 10\n",
      "1\n",
      "2\n",
      "5\n",
      "10\n"
     ]
    }
   ],
   "source": [
    "n, k = map(int, input().split())\n",
    "arr = [int(input()) for _ in range(n)]\n",
    "\n",
    "dp = [0] * (k + 1)\n",
    "dp[0] = 1\n",
    "for i in arr:\n",
    "    for j in range(i, k + 1):\n",
    "        dp[j] += dp[j - i]\n",
    "\n",
    "print(dp[k])\n",
    "\n",
    "#    1  2  3  4  5  6  7  8  9  10\n",
    "# 1  1  1  1  1  1  1  1  1  1  1 \n",
    "# 2  0  1  1  2  2  3  3  4  4  5\n",
    "# 5  0  0  0  0  1  1  2  2  3  4    \n",
    "# 합  1  2  2  3  4  5  6  7  8  10\n"
   ]
  }
 ],
 "metadata": {
  "kernelspec": {
   "display_name": "Python 3",
   "language": "python",
   "name": "python3"
  },
  "language_info": {
   "codemirror_mode": {
    "name": "ipython",
    "version": 3
   },
   "file_extension": ".py",
   "mimetype": "text/x-python",
   "name": "python",
   "nbconvert_exporter": "python",
   "pygments_lexer": "ipython3",
   "version": "3.8.2"
  }
 },
 "nbformat": 4,
 "nbformat_minor": 4
}
